{
 "cells": [
  {
   "cell_type": "code",
   "execution_count": 1,
   "metadata": {},
   "outputs": [
    {
     "data": {
      "application/vnd.jupyter.widget-view+json": {
       "model_id": "b77b0f44a0784558945b59deab249c7a",
       "version_major": 2,
       "version_minor": 0
      },
      "text/plain": [
       "VBox()"
      ]
     },
     "metadata": {},
     "output_type": "display_data"
    },
    {
     "name": "stdout",
     "output_type": "stream",
     "text": [
      "Starting Spark application\n"
     ]
    },
    {
     "data": {
      "text/html": [
       "<table>\n",
       "<tr><th>ID</th><th>YARN Application ID</th><th>Kind</th><th>State</th><th>Spark UI</th><th>Driver log</th><th>Current session?</th></tr><tr><td>3</td><td>application_1589975122815_0004</td><td>pyspark</td><td>idle</td><td><a target=\"_blank\" href=\"http://ip-172-31-76-68.ec2.internal:20888/proxy/application_1589975122815_0004/\">Link</a></td><td><a target=\"_blank\" href=\"http://ip-172-31-79-231.ec2.internal:8042/node/containerlogs/container_1589975122815_0004_01_000001/livy\">Link</a></td><td>✔</td></tr></table>"
      ],
      "text/plain": [
       "<IPython.core.display.HTML object>"
      ]
     },
     "metadata": {},
     "output_type": "display_data"
    },
    {
     "data": {
      "application/vnd.jupyter.widget-view+json": {
       "model_id": "",
       "version_major": 2,
       "version_minor": 0
      },
      "text/plain": [
       "FloatProgress(value=0.0, bar_style='info', description='Progress:', layout=Layout(height='25px', width='50%'),…"
      ]
     },
     "metadata": {},
     "output_type": "display_data"
    },
    {
     "name": "stdout",
     "output_type": "stream",
     "text": [
      "SparkSession available as 'spark'.\n"
     ]
    },
    {
     "data": {
      "application/vnd.jupyter.widget-view+json": {
       "model_id": "",
       "version_major": 2,
       "version_minor": 0
      },
      "text/plain": [
       "FloatProgress(value=0.0, bar_style='info', description='Progress:', layout=Layout(height='25px', width='50%'),…"
      ]
     },
     "metadata": {},
     "output_type": "display_data"
    }
   ],
   "source": [
    "from pyspark import SparkConf, SparkContext\n",
    "import nltk "
   ]
  },
  {
   "cell_type": "code",
   "execution_count": 2,
   "metadata": {},
   "outputs": [
    {
     "data": {
      "application/vnd.jupyter.widget-view+json": {
       "model_id": "c18ab9f3e43a47c2b28add45d2815384",
       "version_major": 2,
       "version_minor": 0
      },
      "text/plain": [
       "VBox()"
      ]
     },
     "metadata": {},
     "output_type": "display_data"
    },
    {
     "data": {
      "application/vnd.jupyter.widget-view+json": {
       "model_id": "",
       "version_major": 2,
       "version_minor": 0
      },
      "text/plain": [
       "FloatProgress(value=0.0, bar_style='info', description='Progress:', layout=Layout(height='25px', width='50%'),…"
      ]
     },
     "metadata": {},
     "output_type": "display_data"
    }
   ],
   "source": [
    "# To create Spark context and set Application name\n",
    "sc=SparkContext.getOrCreate(SparkConf().setAppName(\"VocabularyExploration\")) "
   ]
  },
  {
   "cell_type": "code",
   "execution_count": 3,
   "metadata": {},
   "outputs": [
    {
     "data": {
      "application/vnd.jupyter.widget-view+json": {
       "model_id": "5b2861ec3f6c4f34accdf7935eac2a07",
       "version_major": 2,
       "version_minor": 0
      },
      "text/plain": [
       "VBox()"
      ]
     },
     "metadata": {},
     "output_type": "display_data"
    },
    {
     "data": {
      "application/vnd.jupyter.widget-view+json": {
       "model_id": "",
       "version_major": 2,
       "version_minor": 0
      },
      "text/plain": [
       "FloatProgress(value=0.0, bar_style='info', description='Progress:', layout=Layout(height='25px', width='50%'),…"
      ]
     },
     "metadata": {},
     "output_type": "display_data"
    }
   ],
   "source": [
    "# File locations in S3 (Modify to your S3 location)\n",
    "dev_matched_file = 's3://comp5349-spam9926/assignment/dev_matched.tsv'\n",
    "test_matched_file = 's3://comp5349-spam9926/assignment/test_matched.tsv'\n",
    "dev_mismatched_file = 's3://comp5349-spam9926/assignment/dev_mismatched.tsv'\n",
    "test_mismatched_file = 's3://comp5349-spam9926/assignment/test_mismatched.tsv'\n",
    "train_file = 's3://comp5349-spam9926/assignment/train.tsv'\n",
    "\n",
    "# read all the text files into variables\n",
    "dev_matched_data = sc.textFile(dev_matched_file)\n",
    "dev_mismatched_data = sc.textFile(dev_mismatched_file)\n",
    "test_matched_data = sc.textFile(test_matched_file)\n",
    "test_mismatched_data = sc.textFile(test_mismatched_file)"
   ]
  },
  {
   "cell_type": "code",
   "execution_count": 4,
   "metadata": {},
   "outputs": [
    {
     "data": {
      "application/vnd.jupyter.widget-view+json": {
       "model_id": "06787a9b13604cdf869d3c2c90881d83",
       "version_major": 2,
       "version_minor": 0
      },
      "text/plain": [
       "VBox()"
      ]
     },
     "metadata": {},
     "output_type": "display_data"
    },
    {
     "data": {
      "application/vnd.jupyter.widget-view+json": {
       "model_id": "",
       "version_major": 2,
       "version_minor": 0
      },
      "text/plain": [
       "FloatProgress(value=0.0, bar_style='info', description='Progress:', layout=Layout(height='25px', width='50%'),…"
      ]
     },
     "metadata": {},
     "output_type": "display_data"
    }
   ],
   "source": [
    "# function to read line which is tab delimted and return tuple([words,words])\n",
    "def parseDataSentenceToWords(line):\n",
    "    fields = line.split(\"\\t\")\n",
    "    lower_case_setence = (fields[8]+\" \"+fields[9]).lower()\n",
    "    return (nltk.word_tokenize(lower_case_setence))"
   ]
  },
  {
   "cell_type": "code",
   "execution_count": 5,
   "metadata": {},
   "outputs": [
    {
     "data": {
      "application/vnd.jupyter.widget-view+json": {
       "model_id": "4f8e331df7ce4460b348b40003ea41d5",
       "version_major": 2,
       "version_minor": 0
      },
      "text/plain": [
       "VBox()"
      ]
     },
     "metadata": {},
     "output_type": "display_data"
    },
    {
     "data": {
      "application/vnd.jupyter.widget-view+json": {
       "model_id": "",
       "version_major": 2,
       "version_minor": 0
      },
      "text/plain": [
       "FloatProgress(value=0.0, bar_style='info', description='Progress:', layout=Layout(height='25px', width='50%'),…"
      ]
     },
     "metadata": {},
     "output_type": "display_data"
    }
   ],
   "source": [
    "# function to parse all the data into ([words,words]) and filter the header\n",
    "def getParsedDataValues(parsed_data):\n",
    "    parsed_data_header = parsed_data.first();\n",
    "    parsed_data_values = parsed_data.filter(lambda x:x != parsed_data_header).map(parseDataSentenceToWords)\n",
    "    return parsed_data_values"
   ]
  },
  {
   "cell_type": "code",
   "execution_count": 6,
   "metadata": {},
   "outputs": [
    {
     "data": {
      "application/vnd.jupyter.widget-view+json": {
       "model_id": "689e944b526549ab9e3f10bb72dd25b8",
       "version_major": 2,
       "version_minor": 0
      },
      "text/plain": [
       "VBox()"
      ]
     },
     "metadata": {},
     "output_type": "display_data"
    },
    {
     "data": {
      "application/vnd.jupyter.widget-view+json": {
       "model_id": "",
       "version_major": 2,
       "version_minor": 0
      },
      "text/plain": [
       "FloatProgress(value=0.0, bar_style='info', description='Progress:', layout=Layout(height='25px', width='50%'),…"
      ]
     },
     "metadata": {},
     "output_type": "display_data"
    }
   ],
   "source": [
    "# parse the data from differnt data sets into ([words,words])\n",
    "dev_matched_values = getParsedDataValues(dev_matched_data)\n",
    "test_matched_values = getParsedDataValues(test_matched_data)\n",
    "dev_mismatched_values = getParsedDataValues(dev_mismatched_data)\n",
    "test_mismatched_values = getParsedDataValues(test_mismatched_data)"
   ]
  },
  {
   "cell_type": "code",
   "execution_count": 10,
   "metadata": {},
   "outputs": [
    {
     "data": {
      "application/vnd.jupyter.widget-view+json": {
       "model_id": "08330d4615ca46449ee5f8b36924a8f4",
       "version_major": 2,
       "version_minor": 0
      },
      "text/plain": [
       "VBox()"
      ]
     },
     "metadata": {},
     "output_type": "display_data"
    },
    {
     "data": {
      "application/vnd.jupyter.widget-view+json": {
       "model_id": "",
       "version_major": 2,
       "version_minor": 0
      },
      "text/plain": [
       "FloatProgress(value=0.0, bar_style='info', description='Progress:', layout=Layout(height='25px', width='50%'),…"
      ]
     },
     "metadata": {},
     "output_type": "display_data"
    }
   ],
   "source": [
    "#join the dev and test matched values ([[word,word],[word,word]])\n",
    "matched_values = dev_matched_values.union(test_matched_values)\n",
    "\n",
    "#join the dev and test mismatched values ([[word,word],[word,word]])\n",
    "mismatched_values = dev_mismatched_values.union(test_mismatched_values)"
   ]
  },
  {
   "cell_type": "code",
   "execution_count": 11,
   "metadata": {},
   "outputs": [
    {
     "data": {
      "application/vnd.jupyter.widget-view+json": {
       "model_id": "b4ac7f08252d460285e5f8c4160337a4",
       "version_major": 2,
       "version_minor": 0
      },
      "text/plain": [
       "VBox()"
      ]
     },
     "metadata": {},
     "output_type": "display_data"
    },
    {
     "data": {
      "application/vnd.jupyter.widget-view+json": {
       "model_id": "",
       "version_major": 2,
       "version_minor": 0
      },
      "text/plain": [
       "FloatProgress(value=0.0, bar_style='info', description='Progress:', layout=Layout(height='25px', width='50%'),…"
      ]
     },
     "metadata": {},
     "output_type": "display_data"
    }
   ],
   "source": [
    "# flatten the list of lists to single list and remove duplicates by distinct\n",
    "#ex: ([word,word,word])\n",
    "matched_words = matched_values.flatMap(lambda x : (x)).distinct()\n",
    "mismatched_words = mismatched_values.flatMap(lambda x : (x)).distinct() "
   ]
  },
  {
   "cell_type": "code",
   "execution_count": 12,
   "metadata": {},
   "outputs": [
    {
     "data": {
      "application/vnd.jupyter.widget-view+json": {
       "model_id": "1da73ee6c0264a05b7936cbbe07405be",
       "version_major": 2,
       "version_minor": 0
      },
      "text/plain": [
       "VBox()"
      ]
     },
     "metadata": {},
     "output_type": "display_data"
    },
    {
     "data": {
      "application/vnd.jupyter.widget-view+json": {
       "model_id": "",
       "version_major": 2,
       "version_minor": 0
      },
      "text/plain": [
       "FloatProgress(value=0.0, bar_style='info', description='Progress:', layout=Layout(height='25px', width='50%'),…"
      ]
     },
     "metadata": {},
     "output_type": "display_data"
    },
    {
     "name": "stdout",
     "output_type": "stream",
     "text": [
      "Number Of Common Words Between Matched and Mismatched Set :  9485\n",
      "Number Of Unique Words In Matched Set :  10595\n",
      "Number Of Unique Words In MisMatched Set   8242"
     ]
    }
   ],
   "source": [
    "#using intersection to find the common words between the matched and mismatched words\n",
    "common_words = matched_words.intersection(mismatched_words).cache()\n",
    "\n",
    "#subtract the common words from matched words\n",
    "words_unique_to_matched_sets = matched_words.subtract(common_words)\n",
    "\n",
    "#subtract the common words from mismatched words\n",
    "words_unique_to_mismatched_sets = mismatched_words.subtract(common_words)\n",
    "\n",
    "# count all the values\n",
    "common_words_count = common_words.count()\n",
    "word_un_mat_count = words_unique_to_matched_sets.count()\n",
    "word_un_mismat_count  = words_unique_to_mismatched_sets.count()\n",
    "\n",
    "print(\"Number Of Common Words Between Matched and Mismatched Set : \",common_words_count)\n",
    "print(\"Number Of Unique Words In Matched Set : \",word_un_mat_count)\n",
    "print(\"Number Of Unique Words In MisMatched Set  \",word_un_mismat_count)"
   ]
  },
  {
   "cell_type": "code",
   "execution_count": 13,
   "metadata": {},
   "outputs": [
    {
     "data": {
      "application/vnd.jupyter.widget-view+json": {
       "model_id": "0da45f3258f946c085e4dbf7cfd52469",
       "version_major": 2,
       "version_minor": 0
      },
      "text/plain": [
       "VBox()"
      ]
     },
     "metadata": {},
     "output_type": "display_data"
    },
    {
     "data": {
      "application/vnd.jupyter.widget-view+json": {
       "model_id": "",
       "version_major": 2,
       "version_minor": 0
      },
      "text/plain": [
       "FloatProgress(value=0.0, bar_style='info', description='Progress:', layout=Layout(height='25px', width='50%'),…"
      ]
     },
     "metadata": {},
     "output_type": "display_data"
    }
   ],
   "source": [
    "# read train data set and read the first line as header to filter the header and \n",
    "train_data = sc.textFile(train_file)\n",
    "header = train_data.first();"
   ]
  },
  {
   "cell_type": "code",
   "execution_count": 14,
   "metadata": {},
   "outputs": [
    {
     "data": {
      "application/vnd.jupyter.widget-view+json": {
       "model_id": "0b593eb72a6e4ee78b8302ca9d6c70c6",
       "version_major": 2,
       "version_minor": 0
      },
      "text/plain": [
       "VBox()"
      ]
     },
     "metadata": {},
     "output_type": "display_data"
    },
    {
     "data": {
      "application/vnd.jupyter.widget-view+json": {
       "model_id": "",
       "version_major": 2,
       "version_minor": 0
      },
      "text/plain": [
       "FloatProgress(value=0.0, bar_style='info', description='Progress:', layout=Layout(height='25px', width='50%'),…"
      ]
     },
     "metadata": {},
     "output_type": "display_data"
    }
   ],
   "source": [
    "# parse data function to parse the line and read only the genre(field3) and sentence1&2 (field8&9) \n",
    "# and tokenize the combined sentence to return as tuple (genre,[words])\n",
    "def parseDataSentenceToGenreWords(line):\n",
    "    fields = line.split(\"\\t\")\n",
    "    lower_case_setence = (fields[8]+\" \"+fields[9]).lower()\n",
    "    return (fields[3],nltk.word_tokenize(lower_case_setence))"
   ]
  },
  {
   "cell_type": "code",
   "execution_count": 15,
   "metadata": {},
   "outputs": [
    {
     "data": {
      "application/vnd.jupyter.widget-view+json": {
       "model_id": "b3e9be248d8b40699d7258c938fdd8a9",
       "version_major": 2,
       "version_minor": 0
      },
      "text/plain": [
       "VBox()"
      ]
     },
     "metadata": {},
     "output_type": "display_data"
    },
    {
     "data": {
      "application/vnd.jupyter.widget-view+json": {
       "model_id": "",
       "version_major": 2,
       "version_minor": 0
      },
      "text/plain": [
       "FloatProgress(value=0.0, bar_style='info', description='Progress:', layout=Layout(height='25px', width='50%'),…"
      ]
     },
     "metadata": {},
     "output_type": "display_data"
    }
   ],
   "source": [
    "# filter the header and map values in (genre, list_of_tokenised_words) format \n",
    "genre_words_values = train_data.filter(lambda x:x != header).map(parseDataSentenceToGenreWords).cache()"
   ]
  },
  {
   "cell_type": "code",
   "execution_count": 16,
   "metadata": {},
   "outputs": [
    {
     "data": {
      "application/vnd.jupyter.widget-view+json": {
       "model_id": "4d96e63c9bfe4d3fa27736859b2ed367",
       "version_major": 2,
       "version_minor": 0
      },
      "text/plain": [
       "VBox()"
      ]
     },
     "metadata": {},
     "output_type": "display_data"
    },
    {
     "data": {
      "application/vnd.jupyter.widget-view+json": {
       "model_id": "",
       "version_major": 2,
       "version_minor": 0
      },
      "text/plain": [
       "FloatProgress(value=0.0, bar_style='info', description='Progress:', layout=Layout(height='25px', width='50%'),…"
      ]
     },
     "metadata": {},
     "output_type": "display_data"
    }
   ],
   "source": [
    "# map them into (genre,word),(genre,word)\n",
    "genre_word_with_stopwords = genre_words_values.flatMapValues(lambda x:x)"
   ]
  },
  {
   "cell_type": "code",
   "execution_count": 17,
   "metadata": {},
   "outputs": [
    {
     "data": {
      "application/vnd.jupyter.widget-view+json": {
       "model_id": "07d12ffe8fc142c6b32a3db74eabd7ff",
       "version_major": 2,
       "version_minor": 0
      },
      "text/plain": [
       "VBox()"
      ]
     },
     "metadata": {},
     "output_type": "display_data"
    },
    {
     "data": {
      "application/vnd.jupyter.widget-view+json": {
       "model_id": "",
       "version_major": 2,
       "version_minor": 0
      },
      "text/plain": [
       "FloatProgress(value=0.0, bar_style='info', description='Progress:', layout=Layout(height='25px', width='50%'),…"
      ]
     },
     "metadata": {},
     "output_type": "display_data"
    }
   ],
   "source": [
    "# remove stop words - used nltk stopwords and  map them into (genre,word),(genre,word)\n",
    "from nltk.corpus import stopwords\n",
    "stop_words=set(stopwords.words('english'))\n",
    "genre_word_without_stopwords = genre_words_values.flatMapValues(lambda x : [w for w in x if not w in stop_words])"
   ]
  },
  {
   "cell_type": "code",
   "execution_count": 18,
   "metadata": {},
   "outputs": [
    {
     "data": {
      "application/vnd.jupyter.widget-view+json": {
       "model_id": "399bb984cd68462f82c7e906e000fd89",
       "version_major": 2,
       "version_minor": 0
      },
      "text/plain": [
       "VBox()"
      ]
     },
     "metadata": {},
     "output_type": "display_data"
    },
    {
     "data": {
      "application/vnd.jupyter.widget-view+json": {
       "model_id": "",
       "version_major": 2,
       "version_minor": 0
      },
      "text/plain": [
       "FloatProgress(value=0.0, bar_style='info', description='Progress:', layout=Layout(height='25px', width='50%'),…"
      ]
     },
     "metadata": {},
     "output_type": "display_data"
    }
   ],
   "source": [
    "def processPercentagesOfWords(genre_words_values):\n",
    "   \n",
    "    # now group by value i.e word - (word , [genre1,genre2]),(word , [genre3,genre2]). \n",
    "    # it will help with the word appearing in how may genres - ResultIterable\n",
    "\n",
    "    grouped_genre_by_word = genre_words_values.groupBy(lambda x: x[1])\n",
    "    \n",
    "    # now count the values and map them into [(word, how_many_genres_the_word_appeared_in)]\n",
    "    # ex: [('work', 5), ('out', 5)]\n",
    "    grouped_total_genres_by_word = grouped_genre_by_word.mapValues(lambda vals: len(set(vals))).cache()\n",
    "    \n",
    "    # now count the total words in all the genres \n",
    "    total_word_count = grouped_total_genres_by_word.count();\n",
    "   \n",
    "    # now swap (word,number_of_genres_the word_appeared_in) to (number_of_genres_the word_appeared_in,word) \n",
    "    grouped_word_by_total_genres = grouped_total_genres_by_word.map(lambda x : (x[1],x[0])) \n",
    "    \n",
    "    # count by keys so you get the total number of words appeared in different genres\n",
    "    total_words_in_each_genre = grouped_word_by_total_genres.countByKey()\n",
    "    \n",
    "    print(\" total words in all genres = \",total_word_count)\n",
    "    print(\" Percentage of words in 5 genres - \", (total_words_in_each_genre[5]/total_word_count)*100)\n",
    "    print(\" Percentage of words in 4 genres - \", (total_words_in_each_genre[4]/total_word_count)*100)\n",
    "    print(\" Percentage of words in 3 genres - \", (total_words_in_each_genre[3]/total_word_count)*100)\n",
    "    print(\" Percentage of words in 2 genres - \", (total_words_in_each_genre[2]/total_word_count)*100)\n",
    "    print(\" Percentage of words in 1 genres - \", (total_words_in_each_genre[1]/total_word_count)*100)"
   ]
  },
  {
   "cell_type": "code",
   "execution_count": 19,
   "metadata": {},
   "outputs": [
    {
     "data": {
      "application/vnd.jupyter.widget-view+json": {
       "model_id": "274ef89caa3341e7b7e9d36fab4298a8",
       "version_major": 2,
       "version_minor": 0
      },
      "text/plain": [
       "VBox()"
      ]
     },
     "metadata": {},
     "output_type": "display_data"
    },
    {
     "data": {
      "application/vnd.jupyter.widget-view+json": {
       "model_id": "",
       "version_major": 2,
       "version_minor": 0
      },
      "text/plain": [
       "FloatProgress(value=0.0, bar_style='info', description='Progress:', layout=Layout(height='25px', width='50%'),…"
      ]
     },
     "metadata": {},
     "output_type": "display_data"
    },
    {
     "name": "stdout",
     "output_type": "stream",
     "text": [
      " total words in all genres =  85621\n",
      " Percentage of words in 5 genres -  8.988449095432195\n",
      " Percentage of words in 4 genres -  6.198245757466042\n",
      " Percentage of words in 3 genres -  7.953656229196109\n",
      " Percentage of words in 2 genres -  13.52238352740566\n",
      " Percentage of words in 1 genres -  63.337265390499994"
     ]
    }
   ],
   "source": [
    "processPercentagesOfWords(genre_word_with_stopwords)"
   ]
  },
  {
   "cell_type": "code",
   "execution_count": 20,
   "metadata": {},
   "outputs": [
    {
     "data": {
      "application/vnd.jupyter.widget-view+json": {
       "model_id": "3a8e522ef4e6407889c843e19ff27243",
       "version_major": 2,
       "version_minor": 0
      },
      "text/plain": [
       "VBox()"
      ]
     },
     "metadata": {},
     "output_type": "display_data"
    },
    {
     "data": {
      "application/vnd.jupyter.widget-view+json": {
       "model_id": "",
       "version_major": 2,
       "version_minor": 0
      },
      "text/plain": [
       "FloatProgress(value=0.0, bar_style='info', description='Progress:', layout=Layout(height='25px', width='50%'),…"
      ]
     },
     "metadata": {},
     "output_type": "display_data"
    },
    {
     "name": "stdout",
     "output_type": "stream",
     "text": [
      " total words in all genres =  85475\n",
      " Percentage of words in 5 genres -  8.850541093887102\n",
      " Percentage of words in 4 genres -  6.204153261187482\n",
      " Percentage of words in 3 genres -  7.964902018133957\n",
      " Percentage of words in 2 genres -  13.540801403919275\n",
      " Percentage of words in 1 genres -  63.43960222287218"
     ]
    }
   ],
   "source": [
    "processPercentagesOfWords(genre_word_without_stopwords)"
   ]
  },
  {
   "cell_type": "code",
   "execution_count": null,
   "metadata": {},
   "outputs": [],
   "source": []
  }
 ],
 "metadata": {
  "kernelspec": {
   "display_name": "PySpark",
   "language": "",
   "name": "pysparkkernel"
  },
  "language_info": {
   "codemirror_mode": {
    "name": "python",
    "version": 2
   },
   "mimetype": "text/x-python",
   "name": "pyspark",
   "pygments_lexer": "python2"
  }
 },
 "nbformat": 4,
 "nbformat_minor": 4
}
