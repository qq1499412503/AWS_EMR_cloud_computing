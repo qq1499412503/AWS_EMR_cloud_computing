{
 "cells": [
  {
   "cell_type": "code",
   "execution_count": 1,
   "metadata": {},
   "outputs": [
    {
     "data": {
      "application/vnd.jupyter.widget-view+json": {
       "model_id": "2a11169420cc4ba692f34b86955420e8",
       "version_major": 2,
       "version_minor": 0
      },
      "text/plain": [
       "VBox()"
      ]
     },
     "metadata": {},
     "output_type": "display_data"
    },
    {
     "name": "stdout",
     "output_type": "stream",
     "text": [
      "Starting Spark application\n"
     ]
    },
    {
     "data": {
      "text/html": [
       "<table>\n",
       "<tr><th>ID</th><th>YARN Application ID</th><th>Kind</th><th>State</th><th>Spark UI</th><th>Driver log</th><th>Current session?</th></tr><tr><td>4</td><td>application_1589975122815_0005</td><td>pyspark</td><td>idle</td><td><a target=\"_blank\" href=\"http://ip-172-31-76-68.ec2.internal:20888/proxy/application_1589975122815_0005/\">Link</a></td><td><a target=\"_blank\" href=\"http://ip-172-31-69-133.ec2.internal:8042/node/containerlogs/container_1589975122815_0005_01_000001/livy\">Link</a></td><td>✔</td></tr></table>"
      ],
      "text/plain": [
       "<IPython.core.display.HTML object>"
      ]
     },
     "metadata": {},
     "output_type": "display_data"
    },
    {
     "data": {
      "application/vnd.jupyter.widget-view+json": {
       "model_id": "",
       "version_major": 2,
       "version_minor": 0
      },
      "text/plain": [
       "FloatProgress(value=0.0, bar_style='info', description='Progress:', layout=Layout(height='25px', width='50%'),…"
      ]
     },
     "metadata": {},
     "output_type": "display_data"
    },
    {
     "name": "stdout",
     "output_type": "stream",
     "text": [
      "SparkSession available as 'spark'.\n"
     ]
    },
    {
     "data": {
      "application/vnd.jupyter.widget-view+json": {
       "model_id": "",
       "version_major": 2,
       "version_minor": 0
      },
      "text/plain": [
       "FloatProgress(value=0.0, bar_style='info', description='Progress:', layout=Layout(height='25px', width='50%'),…"
      ]
     },
     "metadata": {},
     "output_type": "display_data"
    }
   ],
   "source": [
    "# Import all necessary libraries and setup the environment for matplotlib\n",
    "from pyspark.sql import SparkSession\n",
    "from pyspark.sql import functions as F\n",
    "from pyspark.ml.pipeline import Pipeline\n",
    "from pyspark.ml.feature import HashingTF, IDF, Tokenizer\n",
    "from pyspark.ml.clustering import KMeans\n",
    "from pyspark.sql.window import Window  \n",
    "from pyspark.ml.linalg import Vectors,VectorUDT\n",
    "from pyspark.ml.feature import VectorAssembler\n",
    "from pyspark.sql.types import StructType,StructField,StringType\n",
    "import tensorflow as tf\n",
    "import tensorflow_hub as hub\n",
    "import numpy as np\n",
    "import pandas as pd"
   ]
  },
  {
   "cell_type": "code",
   "execution_count": 2,
   "metadata": {},
   "outputs": [
    {
     "data": {
      "application/vnd.jupyter.widget-view+json": {
       "model_id": "537244e6cfaf49f4a30f2dd71bf74c29",
       "version_major": 2,
       "version_minor": 0
      },
      "text/plain": [
       "VBox()"
      ]
     },
     "metadata": {},
     "output_type": "display_data"
    },
    {
     "data": {
      "application/vnd.jupyter.widget-view+json": {
       "model_id": "",
       "version_major": 2,
       "version_minor": 0
      },
      "text/plain": [
       "FloatProgress(value=0.0, bar_style='info', description='Progress:', layout=Layout(height='25px', width='50%'),…"
      ]
     },
     "metadata": {},
     "output_type": "display_data"
    },
    {
     "name": "stdout",
     "output_type": "stream",
     "text": [
      "'4'"
     ]
    }
   ],
   "source": [
    "spark = SparkSession.builder.appName(\"SentenceVectorExploration\").getOrCreate()\n",
    "spark.sparkContext.getConf().get('spark.executor.cores')"
   ]
  },
  {
   "cell_type": "code",
   "execution_count": 3,
   "metadata": {},
   "outputs": [
    {
     "data": {
      "application/vnd.jupyter.widget-view+json": {
       "model_id": "ad563771933d4a09bb3f08f203988d48",
       "version_major": 2,
       "version_minor": 0
      },
      "text/plain": [
       "VBox()"
      ]
     },
     "metadata": {},
     "output_type": "display_data"
    },
    {
     "data": {
      "application/vnd.jupyter.widget-view+json": {
       "model_id": "",
       "version_major": 2,
       "version_minor": 0
      },
      "text/plain": [
       "FloatProgress(value=0.0, bar_style='info', description='Progress:', layout=Layout(height='25px', width='50%'),…"
      ]
     },
     "metadata": {},
     "output_type": "display_data"
    }
   ],
   "source": [
    "def processSentenceVectorExploration(method_to_apply):\n",
    "  \n",
    "    # step 0 - read file and clean data  and return as data frame\n",
    "    cleaned_data_to_process = readFileAndGetCleanedDataTable()\n",
    "    \n",
    "    # step 1 - check which vector method to apply\n",
    "    if method_to_apply == \"TDIDF\":\n",
    "        genre_features_mapped_data  = getTDIDFMappedData(cleaned_data_to_process)\n",
    "    elif method_to_apply == \"GoogleEncoder\":\n",
    "        genre_features_mapped_data = getGoogleEncoderMappedData(cleaned_data_to_process)\n",
    "    \n",
    "    # setp 2 - get kmeans predicitions\n",
    "    predictions =  getKmeansPredictions(genre_features_mapped_data)\n",
    "   \n",
    "    # step 3 - select only predcitions and genre from predcitions fetched \n",
    "    prediction_genre = predictions.select('prediction','genre').cache()\n",
    "   \n",
    "    # setp 4 - now label the clusters \n",
    "    labeled_cluster_rdd_map = getLabeledClusters(prediction_genre)\n",
    "    print(\" Labeled Clusters \",labeled_cluster_rdd_map)\n",
    "   \n",
    "    # setp 5 - update the predicitons with new labels in our cached prediciton genre table\n",
    "    updated_prediction_genre_df = updatePredictionsWithLabeledClusters(labeled_cluster_rdd_map,prediction_genre)\n",
    "    \n",
    "    # setp 6 - group by genre to count the number of sentences in each genre on the pre processed table\n",
    "    cleaned_data_count_map = cleaned_data_to_process.groupBy('genre').count().rdd.collectAsMap() \n",
    "   \n",
    "    # step 7 - now finally calculate percentages using the pre processed data set with processed data set\n",
    "    calculatePercentages(cleaned_data_count_map,updated_prediction_genre_df)"
   ]
  },
  {
   "cell_type": "code",
   "execution_count": 4,
   "metadata": {},
   "outputs": [
    {
     "data": {
      "application/vnd.jupyter.widget-view+json": {
       "model_id": "0bf66489dcfe41f3ada1ccd39356877a",
       "version_major": 2,
       "version_minor": 0
      },
      "text/plain": [
       "VBox()"
      ]
     },
     "metadata": {},
     "output_type": "display_data"
    },
    {
     "data": {
      "application/vnd.jupyter.widget-view+json": {
       "model_id": "",
       "version_major": 2,
       "version_minor": 0
      },
      "text/plain": [
       "FloatProgress(value=0.0, bar_style='info', description='Progress:', layout=Layout(height='25px', width='50%'),…"
      ]
     },
     "metadata": {},
     "output_type": "display_data"
    }
   ],
   "source": [
    "# read tab delimited train data and clean the data and convert into a data frame\n",
    "def readFileAndGetCleanedDataTable():\n",
    "    train_datafile = \"s3://comp5349-spam9926/assignment/train.tsv\"\n",
    "    train_df = spark.read.format(\"org.apache.spark.csv\").options(header=True,inferSchema=\"true\").option(\"delimiter\",\"\\t\").csv(train_datafile)\n",
    "    # join sentence 1 and sentence 2 into as joined_sentence column\n",
    "    train_df = train_df.withColumn('joined_sentence',F.concat(F.col('sentence1'),F.lit(' '),F.col('sentence2')))\n",
    "    # select only genre and joined sentence filtering the null in joined sentences\n",
    "    train_clean_df = train_df.select('genre','joined_sentence').filter(train_df.joined_sentence.isNotNull())\n",
    "    return train_clean_df"
   ]
  },
  {
   "cell_type": "code",
   "execution_count": 5,
   "metadata": {},
   "outputs": [
    {
     "data": {
      "application/vnd.jupyter.widget-view+json": {
       "model_id": "f0168fa67ee74b1690b68e9f3a96741a",
       "version_major": 2,
       "version_minor": 0
      },
      "text/plain": [
       "VBox()"
      ]
     },
     "metadata": {},
     "output_type": "display_data"
    },
    {
     "data": {
      "application/vnd.jupyter.widget-view+json": {
       "model_id": "",
       "version_major": 2,
       "version_minor": 0
      },
      "text/plain": [
       "FloatProgress(value=0.0, bar_style='info', description='Progress:', layout=Layout(height='25px', width='50%'),…"
      ]
     },
     "metadata": {},
     "output_type": "display_data"
    }
   ],
   "source": [
    "def getTDIDFMappedData(train_clean_df):\n",
    "    tokenizer = Tokenizer(inputCol=\"joined_sentence\", outputCol=\"words\")\n",
    "    hashingTF = HashingTF(inputCol=\"words\", outputCol=\"rawFeatures\", numFeatures=512)\n",
    "    idf = IDF(inputCol=\"rawFeatures\", outputCol=\"features\", minDocFreq=1)\n",
    "    pipeline = Pipeline(stages= [tokenizer,hashingTF,idf])\n",
    "    model = pipeline.fit(train_clean_df)\n",
    "    genre_features_mapped_data = model.transform(train_clean_df)\n",
    "    return genre_features_mapped_data"
   ]
  },
  {
   "cell_type": "code",
   "execution_count": 6,
   "metadata": {},
   "outputs": [
    {
     "data": {
      "application/vnd.jupyter.widget-view+json": {
       "model_id": "334469e0c37c448fa2cf4767347c3e73",
       "version_major": 2,
       "version_minor": 0
      },
      "text/plain": [
       "VBox()"
      ]
     },
     "metadata": {},
     "output_type": "display_data"
    },
    {
     "data": {
      "application/vnd.jupyter.widget-view+json": {
       "model_id": "",
       "version_major": 2,
       "version_minor": 0
      },
      "text/plain": [
       "FloatProgress(value=0.0, bar_style='info', description='Progress:', layout=Layout(height='25px', width='50%'),…"
      ]
     },
     "metadata": {},
     "output_type": "display_data"
    }
   ],
   "source": [
    "def getGoogleEncoderMappedData(train_clean_df):\n",
    "    train_text = train_clean_df.rdd.map(lambda x : (x.genre,x.joined_sentence)).mapPartitions(applyEncoder).cache()\n",
    "    schema = StructType([StructField(\"genre\",StringType()),StructField(\"features\",VectorUDT())])\n",
    "    genre_features_mapped_data = train_text.map(lambda v: (v[0],Vectors.dense(v[1]))).toDF(schema).cache()\n",
    "    return genre_features_mapped_data"
   ]
  },
  {
   "cell_type": "code",
   "execution_count": 7,
   "metadata": {},
   "outputs": [
    {
     "data": {
      "application/vnd.jupyter.widget-view+json": {
       "model_id": "12559231b2ea45c4872f9f7775eef75d",
       "version_major": 2,
       "version_minor": 0
      },
      "text/plain": [
       "VBox()"
      ]
     },
     "metadata": {},
     "output_type": "display_data"
    },
    {
     "data": {
      "application/vnd.jupyter.widget-view+json": {
       "model_id": "",
       "version_major": 2,
       "version_minor": 0
      },
      "text/plain": [
       "FloatProgress(value=0.0, bar_style='info', description='Progress:', layout=Layout(height='25px', width='50%'),…"
      ]
     },
     "metadata": {},
     "output_type": "display_data"
    }
   ],
   "source": [
    " def applyEncoder(rev_text_partition):\n",
    "    embed = hub.Module(\"https://tfhub.dev/google/universal-sentence-encoder/2\") \n",
    "    genres = []\n",
    "    sentences = []\n",
    "    for item in rev_text_partition:\n",
    "        genres.append(item[0])\n",
    "        sentences.append(item[1])\n",
    "    \n",
    "    with tf.Session() as session:\n",
    "        session.run([tf.global_variables_initializer(), tf.tables_initializer()])\n",
    "        message_embeddings = session.run(embed(sentences))\n",
    "    return [(genre,vector) for genre,vector in zip(genres,message_embeddings)]"
   ]
  },
  {
   "cell_type": "code",
   "execution_count": 8,
   "metadata": {},
   "outputs": [
    {
     "data": {
      "application/vnd.jupyter.widget-view+json": {
       "model_id": "c0035a85c6034e049d47b567f5b73de9",
       "version_major": 2,
       "version_minor": 0
      },
      "text/plain": [
       "VBox()"
      ]
     },
     "metadata": {},
     "output_type": "display_data"
    },
    {
     "data": {
      "application/vnd.jupyter.widget-view+json": {
       "model_id": "",
       "version_major": 2,
       "version_minor": 0
      },
      "text/plain": [
       "FloatProgress(value=0.0, bar_style='info', description='Progress:', layout=Layout(height='25px', width='50%'),…"
      ]
     },
     "metadata": {},
     "output_type": "display_data"
    }
   ],
   "source": [
    "def getKmeansPredictions(genre_features_mapped_data):\n",
    "    kmeans = KMeans(featuresCol='features',k=5,seed=1024)\n",
    "    model = kmeans.fit(genre_features_mapped_data)\n",
    "    predictions = model.transform(genre_features_mapped_data)\n",
    "    return predictions"
   ]
  },
  {
   "cell_type": "code",
   "execution_count": 9,
   "metadata": {},
   "outputs": [
    {
     "data": {
      "application/vnd.jupyter.widget-view+json": {
       "model_id": "089c6b74b1314db3a6230a17ba1d8da9",
       "version_major": 2,
       "version_minor": 0
      },
      "text/plain": [
       "VBox()"
      ]
     },
     "metadata": {},
     "output_type": "display_data"
    },
    {
     "data": {
      "application/vnd.jupyter.widget-view+json": {
       "model_id": "",
       "version_major": 2,
       "version_minor": 0
      },
      "text/plain": [
       "FloatProgress(value=0.0, bar_style='info', description='Progress:', layout=Layout(height='25px', width='50%'),…"
      ]
     },
     "metadata": {},
     "output_type": "display_data"
    }
   ],
   "source": [
    "# {0: 'fiction', 1: 'telephone', 2: 'travel', 3: 'government', 4: 'telephone'}\n",
    "def getLabeledClusters(prediction_genre):\n",
    "    predictions_val = prediction_genre.groupBy(\"prediction\",\"genre\").agg(F.count(\"genre\").alias(\"genreCount\"))\n",
    "    predictions_val_max = predictions_val.withColumn(\"maxItemCount\",F.max(\"genreCount\").over(Window.partitionBy(\"prediction\")))\n",
    "    labeled_cluster = predictions_val_max.filter(\"maxItemCount - genreCount == 0\").drop(\"maxItemCount\",\"genreCount\").sort('prediction')\n",
    "    labeled_cluster_rdd_map = labeled_cluster.rdd.collectAsMap()\n",
    "    return labeled_cluster_rdd_map"
   ]
  },
  {
   "cell_type": "code",
   "execution_count": 10,
   "metadata": {},
   "outputs": [
    {
     "data": {
      "application/vnd.jupyter.widget-view+json": {
       "model_id": "bd8cc63f9ad94988859c94fc0d7504fb",
       "version_major": 2,
       "version_minor": 0
      },
      "text/plain": [
       "VBox()"
      ]
     },
     "metadata": {},
     "output_type": "display_data"
    },
    {
     "data": {
      "application/vnd.jupyter.widget-view+json": {
       "model_id": "",
       "version_major": 2,
       "version_minor": 0
      },
      "text/plain": [
       "FloatProgress(value=0.0, bar_style='info', description='Progress:', layout=Layout(height='25px', width='50%'),…"
      ]
     },
     "metadata": {},
     "output_type": "display_data"
    }
   ],
   "source": [
    "def updatePredictionsWithLabeledClusters(labeled_cluster_rdd_map,prediction_genre):\n",
    "    predicitions_udf = F.udf(lambda x : labeled_cluster_rdd_map.get(x))\n",
    "    updated_prediction_genre_df = prediction_genre.withColumn('prediction', predicitions_udf(prediction_genre.prediction))\n",
    "    updated_prediction_genre_df = updated_prediction_genre_df.groupBy(['prediction','genre']).count().sort('genre')\n",
    "    return updated_prediction_genre_df"
   ]
  },
  {
   "cell_type": "code",
   "execution_count": 11,
   "metadata": {},
   "outputs": [
    {
     "data": {
      "application/vnd.jupyter.widget-view+json": {
       "model_id": "7e2d04e6229448f08f26a851f6b4bf3b",
       "version_major": 2,
       "version_minor": 0
      },
      "text/plain": [
       "VBox()"
      ]
     },
     "metadata": {},
     "output_type": "display_data"
    },
    {
     "data": {
      "application/vnd.jupyter.widget-view+json": {
       "model_id": "",
       "version_major": 2,
       "version_minor": 0
      },
      "text/plain": [
       "FloatProgress(value=0.0, bar_style='info', description='Progress:', layout=Layout(height='25px', width='50%'),…"
      ]
     },
     "metadata": {},
     "output_type": "display_data"
    }
   ],
   "source": [
    "def calculatePercentages(train_df_count_map,updated_prediction_genre_df):\n",
    "    calculate_percentage_udf = F.udf(lambda x,y : '{:.2f}%'.format((y/train_df_count_map.get(x))*100))\n",
    "    true_label_percentages= updated_prediction_genre_df.withColumn('percentage', calculate_percentage_udf(F.col('genre'),F.col('count')))\n",
    "    true_label_percentages.show()\n",
    "    plotConfusionMatrix(true_label_percentages,train_df_count_map.keys())"
   ]
  },
  {
   "cell_type": "code",
   "execution_count": 12,
   "metadata": {},
   "outputs": [
    {
     "data": {
      "application/vnd.jupyter.widget-view+json": {
       "model_id": "35e137e5923948b680c4c58cb0270ebd",
       "version_major": 2,
       "version_minor": 0
      },
      "text/plain": [
       "VBox()"
      ]
     },
     "metadata": {},
     "output_type": "display_data"
    },
    {
     "data": {
      "application/vnd.jupyter.widget-view+json": {
       "model_id": "",
       "version_major": 2,
       "version_minor": 0
      },
      "text/plain": [
       "FloatProgress(value=0.0, bar_style='info', description='Progress:', layout=Layout(height='25px', width='50%'),…"
      ]
     },
     "metadata": {},
     "output_type": "display_data"
    }
   ],
   "source": [
    "def plotConfusionMatrix(true_label_percentages,labels):\n",
    "    result = true_label_percentages.take(true_label_percentages.count())\n",
    "    result_data = {}\n",
    "    for row in result:\n",
    "        temp = result_data.get(row.genre, {})\n",
    "        temp[row.prediction] = row.percentage\n",
    "        result_data[row.genre] = temp\n",
    "    pd_data = [{} for i in range(len(labels))]\n",
    "    for genre1 in labels:\n",
    "        for index, genre2 in enumerate(labels):\n",
    "            pd_data[index][genre1] = result_data[genre1].get(genre2, \"0.00%\")\n",
    "    print(pd.DataFrame(pd_data,index=labels))"
   ]
  },
  {
   "cell_type": "code",
   "execution_count": null,
   "metadata": {
    "scrolled": true
   },
   "outputs": [
    {
     "data": {
      "application/vnd.jupyter.widget-view+json": {
       "model_id": "fc0500fe5bca4320ba9c2d732959563a",
       "version_major": 2,
       "version_minor": 0
      },
      "text/plain": [
       "VBox()"
      ]
     },
     "metadata": {},
     "output_type": "display_data"
    },
    {
     "data": {
      "application/vnd.jupyter.widget-view+json": {
       "model_id": "ac4aabefd3b341328fae0c1157ee72fa",
       "version_major": 2,
       "version_minor": 0
      },
      "text/plain": [
       "FloatProgress(value=0.0, bar_style='info', description='Progress:', layout=Layout(height='25px', width='50%'),…"
      ]
     },
     "metadata": {},
     "output_type": "display_data"
    }
   ],
   "source": [
    "processSentenceVectorExploration(\"TDIDF\")"
   ]
  },
  {
   "cell_type": "code",
   "execution_count": null,
   "metadata": {},
   "outputs": [],
   "source": [
    "processSentenceVectorExploration(\"GoogleEncoder\")"
   ]
  },
  {
   "cell_type": "code",
   "execution_count": null,
   "metadata": {},
   "outputs": [],
   "source": []
  }
 ],
 "metadata": {
  "kernelspec": {
   "display_name": "PySpark",
   "language": "",
   "name": "pysparkkernel"
  },
  "language_info": {
   "codemirror_mode": {
    "name": "python",
    "version": 2
   },
   "mimetype": "text/x-python",
   "name": "pyspark",
   "pygments_lexer": "python2"
  }
 },
 "nbformat": 4,
 "nbformat_minor": 4
}
