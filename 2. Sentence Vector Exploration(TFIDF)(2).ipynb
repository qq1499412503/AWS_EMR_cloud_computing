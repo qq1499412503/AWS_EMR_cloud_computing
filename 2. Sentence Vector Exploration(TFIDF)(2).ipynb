{
 "cells": [
  {
   "cell_type": "code",
   "execution_count": 1,
   "metadata": {},
   "outputs": [],
   "source": [
    "import os\n",
    "import requests\n",
    "import codecs\n",
    "import re\n",
    "import nltk\n",
    "from pyspark import SparkConf, SparkContext\n",
    "from pyspark.sql import SparkSession, Row\n",
    "from pyspark.sql import functions as F\n",
    "from pyspark.sql.types import StringType, IntegerType\n",
    "from tqdm import tqdm\n",
    "from pyspark.ml.feature import HashingTF, IDF, Tokenizer\n",
    "from pyspark.ml.clustering import KMeans\n",
    "from pyspark.ml.pipeline import Pipeline\n",
    "import numpy as np\n",
    "import pandas as pd"
   ]
  },
  {
   "cell_type": "code",
   "execution_count": 2,
   "metadata": {},
   "outputs": [],
   "source": [
    "from pyspark.sql.types import StructField, StructType"
   ]
  },
  {
   "cell_type": "code",
   "execution_count": 3,
   "metadata": {
    "scrolled": true
   },
   "outputs": [],
   "source": [
    "#Create SparkConf\n",
    "sparkConf =SparkConf().setAppName('SentenceVectorExploration').setMaster('local[*]')\n",
    "#Create SparkContext\n",
    "sc=SparkContext(conf=sparkConf)"
   ]
  },
  {
   "cell_type": "code",
   "execution_count": 4,
   "metadata": {},
   "outputs": [],
   "source": [
    "spark = SparkSession(sc)"
   ]
  },
  {
   "cell_type": "code",
   "execution_count": 5,
   "metadata": {},
   "outputs": [],
   "source": [
    "df = spark.read.option(\"header\", \"true\").csv(\"./data/clean/train/*\", sep= \"\\t\")"
   ]
  },
  {
   "cell_type": "code",
   "execution_count": 6,
   "metadata": {},
   "outputs": [
    {
     "name": "stdout",
     "output_type": "stream",
     "text": [
      "+----------+--------------------+--------------------+\n",
      "|     genre|           sentence1|           sentence2|\n",
      "+----------+--------------------+--------------------+\n",
      "| telephone|yeah pay fee amer...|american express ...|\n",
      "|government|now will embark r...|people reviewing ...|\n",
      "| telephone|umhum okay think ...|oak tree leaves p...|\n",
      "|government|fiscal year 2002 ...|beginning fiscal ...|\n",
      "| telephone|well argument one...|statistically con...|\n",
      "+----------+--------------------+--------------------+\n",
      "only showing top 5 rows\n",
      "\n"
     ]
    }
   ],
   "source": [
    "df.show(5)"
   ]
  },
  {
   "cell_type": "code",
   "execution_count": 7,
   "metadata": {},
   "outputs": [],
   "source": [
    "temp_rdd = df.rdd.map(lambda x: (x.genre, \"{} {}\".format(x.sentence1, x.sentence2))).collect()"
   ]
  },
  {
   "cell_type": "code",
   "execution_count": 8,
   "metadata": {},
   "outputs": [],
   "source": [
    "df_agg = spark.createDataFrame(temp_rdd, schema= StructType([\n",
    "    StructField(\"genre\", StringType()),\n",
    "    StructField(\"sentence\", StringType())\n",
    "]))"
   ]
  },
  {
   "cell_type": "code",
   "execution_count": 9,
   "metadata": {},
   "outputs": [],
   "source": [
    "tokenizer = Tokenizer(inputCol=\"sentence\", outputCol=\"words\")"
   ]
  },
  {
   "cell_type": "code",
   "execution_count": 10,
   "metadata": {},
   "outputs": [],
   "source": [
    "hashingTf = HashingTF(inputCol=\"words\", outputCol=\"tf\", numFeatures= 512)"
   ]
  },
  {
   "cell_type": "code",
   "execution_count": 11,
   "metadata": {},
   "outputs": [],
   "source": [
    "idf = IDF(inputCol=\"tf\", outputCol=\"tfidf\", minDocFreq= 1)"
   ]
  },
  {
   "cell_type": "code",
   "execution_count": 18,
   "metadata": {},
   "outputs": [],
   "source": [
    "kmeans = KMeans(featuresCol=\"tfidf\", predictionCol=\"predCluster\", k= 5, seed= 1024)"
   ]
  },
  {
   "cell_type": "code",
   "execution_count": 19,
   "metadata": {},
   "outputs": [],
   "source": [
    "pipeline = Pipeline(stages=[tokenizer, hashingTf, idf, kmeans])"
   ]
  },
  {
   "cell_type": "code",
   "execution_count": 20,
   "metadata": {},
   "outputs": [],
   "source": [
    "model = pipeline.fit(df_agg)"
   ]
  },
  {
   "cell_type": "code",
   "execution_count": 21,
   "metadata": {},
   "outputs": [],
   "source": [
    "df_result = model.transform(df_agg)"
   ]
  },
  {
   "cell_type": "code",
   "execution_count": 22,
   "metadata": {},
   "outputs": [
    {
     "name": "stdout",
     "output_type": "stream",
     "text": [
      "+----------+--------------------+--------------------+--------------------+--------------------+-----------+\n",
      "|     genre|            sentence|               words|                  tf|               tfidf|predCluster|\n",
      "+----------+--------------------+--------------------+--------------------+--------------------+-----------+\n",
      "| telephone|yeah pay fee amer...|[yeah, pay, fee, ...|(512,[9,14,84,138...|(512,[9,14,84,138...|          0|\n",
      "|government|now will embark r...|[now, will, embar...|(512,[24,73,108,1...|(512,[24,73,108,1...|          1|\n",
      "| telephone|umhum okay think ...|[umhum, okay, thi...|(512,[9,39,52,81,...|(512,[9,39,52,81,...|          2|\n",
      "|government|fiscal year 2002 ...|[fiscal, year, 20...|(512,[1,9,31,32,3...|(512,[1,9,31,32,3...|          1|\n",
      "| telephone|well argument one...|[well, argument, ...|(512,[31,39,45,11...|(512,[31,39,45,11...|          0|\n",
      "+----------+--------------------+--------------------+--------------------+--------------------+-----------+\n",
      "only showing top 5 rows\n",
      "\n"
     ]
    }
   ],
   "source": [
    "df_result.show(5)"
   ]
  },
  {
   "cell_type": "code",
   "execution_count": 23,
   "metadata": {
    "scrolled": true
   },
   "outputs": [
    {
     "name": "stdout",
     "output_type": "stream",
     "text": [
      "+-----------+----------+\n",
      "|predCluster|     genre|\n",
      "+-----------+----------+\n",
      "|          0|   fiction|\n",
      "|          1|government|\n",
      "|          2| telephone|\n",
      "|          3|    travel|\n",
      "|          4|    travel|\n",
      "+-----------+----------+\n",
      "\n"
     ]
    }
   ],
   "source": [
    "df_temp = df_result.groupBy([\"predCluster\", \"genre\"]).count().groupBy([\"predCluster\"]).agg(F.max(\"count\").alias(\"count\"))\n",
    "df_temp2 = df_result.groupBy([\"predCluster\", \"genre\"]).count().drop(\"predCluster\")\n",
    "df_join = df_temp.join(df_temp2, on=\"count\", how=\"inner\")\n",
    "df_cluster2genre = df_join.select([\"predCluster\", \"genre\"]).sort(\"predCluster\")\n",
    "df_cluster2genre.show()"
   ]
  },
  {
   "cell_type": "markdown",
   "metadata": {},
   "source": [
    "* ~~由上面的第二个表可以看出, 在考虑每个簇被分为哪类的时候, 按照0,2,1,3,4的顺序进行考虑~~\n",
    "* 由上面的表可以看出:\n",
    "    * cluster0 认为是`fiction`\n",
    "    * cluster1 认为是`government`\n",
    "    * cluster2 认为是`telephone`\n",
    "    * cluster3 认为是`travel`\n",
    "    * cluster4 认为是`travel`"
   ]
  },
  {
   "cell_type": "code",
   "execution_count": 24,
   "metadata": {},
   "outputs": [],
   "source": [
    "cluster2genre = {}\n",
    "for cluster_id, genre_name in df_cluster2genre.select([\"predCluster\", \"genre\"]).rdd.map(lambda x: (x.predCluster, x.genre)).take(5):\n",
    "    cluster2genre[cluster_id] = genre_name"
   ]
  },
  {
   "cell_type": "code",
   "execution_count": 25,
   "metadata": {},
   "outputs": [],
   "source": [
    "def map_cluster2genre(x):\n",
    "    return cluster2genre[x]"
   ]
  },
  {
   "cell_type": "code",
   "execution_count": 26,
   "metadata": {},
   "outputs": [],
   "source": [
    "udf_map_cluster2genre = F.udf(map_cluster2genre, StringType())"
   ]
  },
  {
   "cell_type": "code",
   "execution_count": 27,
   "metadata": {},
   "outputs": [],
   "source": [
    "df_result_2 = df_result.withColumn(\"predGenre\", udf_map_cluster2genre(df_result.predCluster))"
   ]
  },
  {
   "cell_type": "code",
   "execution_count": 28,
   "metadata": {},
   "outputs": [],
   "source": [
    "true_labels = []\n",
    "pred_labels = []\n",
    "for row in df_result_2.select([\"genre\", \"predGenre\"]).take(df_result_2.count()):\n",
    "    true_labels.append(row.genre)\n",
    "    pred_labels.append(row.predGenre)"
   ]
  },
  {
   "cell_type": "code",
   "execution_count": 30,
   "metadata": {},
   "outputs": [],
   "source": [
    "df_result_3 = df_result_2.groupBy([\"genre\", \"predGenre\"]).count().sort([\"genre\", \"predGenre\"])"
   ]
  },
  {
   "cell_type": "code",
   "execution_count": 31,
   "metadata": {},
   "outputs": [
    {
     "name": "stdout",
     "output_type": "stream",
     "text": [
      "+----------+-----+\n",
      "|     genre|count|\n",
      "+----------+-----+\n",
      "|    travel|77350|\n",
      "|     slate|77305|\n",
      "|   fiction|77272|\n",
      "|government|77350|\n",
      "| telephone|83345|\n",
      "+----------+-----+\n",
      "\n"
     ]
    }
   ],
   "source": [
    "df.groupBy(\"genre\").count().show()"
   ]
  },
  {
   "cell_type": "code",
   "execution_count": 32,
   "metadata": {},
   "outputs": [],
   "source": [
    "genre2total = {\n",
    "    \"travel\": 77350,\n",
    "    \"slate\": 77305,\n",
    "    \"fiction\":77272,\n",
    " \"government\":77350,\n",
    " \"telephone\": 83345\n",
    "}\n",
    "def get_percentage(genre, count):\n",
    "    # return \"{}\".format(count)\n",
    "    return \"{:.2f}%\".format((float(count) / genre2total[genre] * 100))"
   ]
  },
  {
   "cell_type": "code",
   "execution_count": 33,
   "metadata": {},
   "outputs": [],
   "source": [
    "udf_get_ratio = F.udf(get_percentage, StringType())"
   ]
  },
  {
   "cell_type": "code",
   "execution_count": 34,
   "metadata": {},
   "outputs": [
    {
     "name": "stdout",
     "output_type": "stream",
     "text": [
      "+----------+----------+-----+-------+\n",
      "|     genre| predGenre|count|percent|\n",
      "+----------+----------+-----+-------+\n",
      "|   fiction|   fiction|70199| 90.85%|\n",
      "|   fiction|government| 4867|  6.30%|\n",
      "|   fiction| telephone|  390|  0.50%|\n",
      "|   fiction|    travel| 1816|  2.35%|\n",
      "|government|   fiction|25722| 33.25%|\n",
      "|government|government|47276| 61.12%|\n",
      "|government| telephone|  980|  1.27%|\n",
      "|government|    travel| 3372|  4.36%|\n",
      "|     slate|   fiction|47886| 61.94%|\n",
      "|     slate|government|25653| 33.18%|\n",
      "|     slate| telephone|  591|  0.76%|\n",
      "|     slate|    travel| 3175|  4.11%|\n",
      "| telephone|   fiction|53424| 64.10%|\n",
      "| telephone|government| 3450|  4.14%|\n",
      "| telephone| telephone|24933| 29.92%|\n",
      "| telephone|    travel| 1538|  1.85%|\n",
      "|    travel|   fiction|33397| 43.18%|\n",
      "|    travel|government|38924| 50.32%|\n",
      "|    travel| telephone|  838|  1.08%|\n",
      "|    travel|    travel| 4191|  5.42%|\n",
      "+----------+----------+-----+-------+\n",
      "\n"
     ]
    }
   ],
   "source": [
    "confusion_table = df_result_3.withColumn(\"percent\", udf_get_ratio(df_result_3[\"genre\"], df_result_3[\"count\"]))\n",
    "confusion_table.show()"
   ]
  },
  {
   "cell_type": "code",
   "execution_count": 35,
   "metadata": {},
   "outputs": [],
   "source": [
    "result = confusion_table.select([\"genre\", \"predGenre\", \"percent\"]).take(confusion_table.count())"
   ]
  },
  {
   "cell_type": "code",
   "execution_count": 36,
   "metadata": {},
   "outputs": [],
   "source": [
    "result_data = {}\n",
    "for row in result:\n",
    "    temp = result_data.get(row.genre, {})\n",
    "    temp[row.predGenre] = row.percent\n",
    "    result_data[row.genre] = temp"
   ]
  },
  {
   "cell_type": "code",
   "execution_count": 37,
   "metadata": {},
   "outputs": [],
   "source": [
    "genres = list(genre2total.keys())\n",
    "pd_data = [{} for i in range(len(genres))]\n",
    "for genre1 in genres:\n",
    "    for index, genre2 in enumerate(genres):\n",
    "        pd_data[index][genre1] = result_data[genre1].get(genre2, \"0.00%\")"
   ]
  },
  {
   "cell_type": "code",
   "execution_count": 38,
   "metadata": {
    "scrolled": false
   },
   "outputs": [
    {
     "name": "stdout",
     "output_type": "stream",
     "text": [
      "            travel   slate fiction government telephone\n",
      "travel       5.42%   4.11%   2.35%      4.36%     1.85%\n",
      "slate        0.00%   0.00%   0.00%      0.00%     0.00%\n",
      "fiction     43.18%  61.94%  90.85%     33.25%    64.10%\n",
      "government  50.32%  33.18%   6.30%     61.12%     4.14%\n",
      "telephone    1.08%   0.76%   0.50%      1.27%    29.92%\n"
     ]
    }
   ],
   "source": [
    "print(pd.DataFrame(pd_data, index= genres))"
   ]
  }
 ],
 "metadata": {
  "kernelspec": {
   "display_name": "Python 3",
   "language": "python",
   "name": "python3"
  },
  "language_info": {
   "codemirror_mode": {
    "name": "ipython",
    "version": 3
   },
   "file_extension": ".py",
   "mimetype": "text/x-python",
   "name": "python",
   "nbconvert_exporter": "python",
   "pygments_lexer": "ipython3",
   "version": "3.7.6"
  }
 },
 "nbformat": 4,
 "nbformat_minor": 4
}
